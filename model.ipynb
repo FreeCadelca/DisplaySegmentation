{
 "cells": [
  {
   "cell_type": "code",
   "execution_count": 1,
   "id": "initial_id",
   "metadata": {
    "collapsed": true,
    "ExecuteTime": {
     "end_time": "2025-03-19T22:25:52.220164500Z",
     "start_time": "2025-03-19T22:25:52.202228100Z"
    }
   },
   "outputs": [],
   "source": [
    "# !pip install roboflow\n",
    "\n"
   ]
  },
  {
   "cell_type": "code",
   "outputs": [],
   "source": [
    "from torch.utils.data import Dataset\n",
    "import os\n",
    "from PIL import Image\n",
    "\n",
    "class SemanticSegmentationDataset(Dataset):\n",
    "    \"\"\"Image (semantic) segmentation dataset.\"\"\"\n",
    "\n",
    "    def __init__(self, root_dir, feature_extractor):\n",
    "        self.root_dir = root_dir\n",
    "        self.feature_extractor = feature_extractor\n",
    "        \n",
    "        # Читаем _classes.csv\n",
    "        self.classes_csv_file = os.path.join(self.root_dir, \"_classes.csv\")\n",
    "        with open(self.classes_csv_file, 'r') as fid:\n",
    "            lines = fid.readlines()\n",
    "            data = [line.strip().split(',') for line in lines[1:]]  # Пропускаем заголовок\n",
    "            self.id2label = {str(id_): name for id_, name in data}\n",
    "        \n",
    "        # Собираем файлы\n",
    "        image_file_names = [f for f in os.listdir(self.root_dir) if f.lower().endswith(('.jpg', '.jpeg'))]\n",
    "        mask_file_names = [f for f in os.listdir(self.root_dir) if f.lower().endswith('.png')]\n",
    "        \n",
    "        # Извлекаем базовые имена, убирая суффикс _mask из масок\n",
    "        image_bases = {f.replace('.jpg', '').replace('.jpeg', '') for f in image_file_names}\n",
    "        mask_bases = {f.replace('_mask.png', '').replace('.png', '') for f in mask_file_names}\n",
    "        \n",
    "        # Находим общие базовые имена\n",
    "        common_bases = sorted(image_bases & mask_bases)\n",
    "        self.images = [f\"{base}.jpg\" for base in common_bases]  # Предполагаем .jpg, можно добавить .jpeg\n",
    "        self.masks = [f\"{base}_mask.png\" for base in common_bases]  # Добавляем _mask для масок\n",
    "        \n",
    "        print(f\"Images: {len(self.images)}, Masks: {len(self.masks)}\")\n",
    "        print(f\"First 5 images: {self.images[:5]}\")\n",
    "        print(f\"First 5 masks: {self.masks[:5]}\")\n",
    "        print(f\"id2label: {self.id2label}\")\n",
    "        if not self.images or not self.masks:\n",
    "            raise ValueError(f\"Нет парного соответствия изображений и масок в {self.root_dir}\")\n",
    "        if len(self.images) != len(self.masks):\n",
    "            raise ValueError(\"Количество изображений и масок не совпадает!\")\n",
    "\n",
    "    def __len__(self):\n",
    "        return len(self.images)\n",
    "\n",
    "    def __getitem__(self, idx):\n",
    "        image = Image.open(os.path.join(self.root_dir, self.images[idx]))\n",
    "        segmentation_map = Image.open(os.path.join(self.root_dir, self.masks[idx]))\n",
    "        encoded_inputs = self.feature_extractor(image, segmentation_map, return_tensors=\"pt\")\n",
    "        for k, v in encoded_inputs.items():\n",
    "            encoded_inputs[k].squeeze_()\n",
    "        encoded_inputs['labels'] = (encoded_inputs['labels'] > 0).long()  # 0/1/255 -> 0/1\n",
    "        return encoded_inputs"
   ],
   "metadata": {
    "collapsed": false,
    "ExecuteTime": {
     "end_time": "2025-03-19T22:25:53.680740Z",
     "start_time": "2025-03-19T22:25:52.209163300Z"
    }
   },
   "id": "bb74bb597b18130f",
   "execution_count": 2
  },
  {
   "cell_type": "code",
   "outputs": [],
   "source": [
    "import pytorch_lightning as pl\n",
    "from transformers import SegformerForSemanticSegmentation\n",
    "from evaluate import load\n",
    "\n",
    "import torch\n",
    "from torch import nn\n",
    "\n",
    "import numpy as np\n",
    "\n",
    "class SegformerFinetuner(pl.LightningModule):\n",
    "    \n",
    "    def __init__(self, id2label, train_dataloader=None, val_dataloader=None, test_dataloader=None, metrics_interval=100):\n",
    "        super(SegformerFinetuner, self).__init__()\n",
    "        self.id2label = id2label\n",
    "        self.metrics_interval = metrics_interval\n",
    "        self.train_dl = train_dataloader\n",
    "        self.val_dl = val_dataloader\n",
    "        self.test_dl = test_dataloader\n",
    "        \n",
    "        self.num_classes = len(id2label.keys())\n",
    "        self.label2id = {v: k for k, v in self.id2label.items()}\n",
    "        \n",
    "        self.model = SegformerForSemanticSegmentation.from_pretrained(\n",
    "            \"nvidia/segformer-b0-finetuned-ade-512-512\", \n",
    "            return_dict=False, \n",
    "            num_labels=self.num_classes,\n",
    "            id2label=self.id2label,\n",
    "            label2id=self.label2id,\n",
    "            ignore_mismatched_sizes=True,\n",
    "        )\n",
    "        \n",
    "        self.train_mean_iou = load(\"mean_iou\")\n",
    "        self.val_mean_iou = load(\"mean_iou\")\n",
    "        self.test_mean_iou = load(\"mean_iou\")\n",
    "        \n",
    "        self.validation_step_outputs = []\n",
    "        self.test_step_outputs = []\n",
    "\n",
    "    def forward(self, images, masks=None):  # Обновили: masks теперь необязательный\n",
    "        images = images.to(self.device)\n",
    "        if masks is not None:\n",
    "            masks = masks.to(self.device)\n",
    "        # print(\"\\nImages device:\", images.device)\n",
    "        # print(\"Masks device:\", masks.device if masks is not None else \"None\")\n",
    "        outputs = self.model(pixel_values=images, labels=masks)\n",
    "        return outputs\n",
    "\n",
    "    def training_step(self, batch, batch_nb):\n",
    "        images, masks = batch['pixel_values'], batch['labels']\n",
    "        outputs = self(images, masks)\n",
    "        loss, logits = outputs[0], outputs[1]\n",
    "        upsampled_logits = nn.functional.interpolate(\n",
    "            logits, \n",
    "            size=masks.shape[-2:], \n",
    "            mode=\"bilinear\", \n",
    "            align_corners=False\n",
    "        )\n",
    "        predicted = upsampled_logits.argmax(dim=1)\n",
    "        self.train_mean_iou.add_batch(\n",
    "            predictions=predicted.detach().cpu().numpy(), \n",
    "            references=masks.detach().cpu().numpy()\n",
    "        )\n",
    "        if batch_nb % self.metrics_interval == 0:\n",
    "            metrics = self.train_mean_iou.compute(\n",
    "                num_labels=self.num_classes, \n",
    "                ignore_index=255, \n",
    "                reduce_labels=False,\n",
    "            )\n",
    "            metrics = {'loss': loss, \"mean_iou\": metrics[\"mean_iou\"], \"mean_accuracy\": metrics[\"mean_accuracy\"]}\n",
    "            for k, v in metrics.items():\n",
    "                self.log(k, v)\n",
    "            return metrics\n",
    "        else:\n",
    "            return {'loss': loss}\n",
    "\n",
    "    def validation_step(self, batch, batch_idx):\n",
    "        images, masks = batch['pixel_values'], batch['labels']\n",
    "        outputs = self(images, masks)\n",
    "        loss, logits = outputs[0], outputs[1]\n",
    "        upsampled_logits = nn.functional.interpolate(\n",
    "            logits,\n",
    "            size=masks.shape[-2:],\n",
    "            mode=\"bilinear\",\n",
    "            align_corners=False\n",
    "        )\n",
    "        predicted = upsampled_logits.argmax(dim=1)\n",
    "        self.val_mean_iou.add_batch(\n",
    "            predictions=predicted.detach().cpu().numpy(),\n",
    "            references=masks.detach().cpu().numpy()\n",
    "        )\n",
    "        self.validation_step_outputs.append({'val_loss': loss})\n",
    "\n",
    "    def on_validation_epoch_end(self):\n",
    "        avg_val_loss = torch.stack([x['val_loss'] for x in self.validation_step_outputs]).mean()\n",
    "        metrics = self.val_mean_iou.compute(\n",
    "            num_labels=self.num_classes,\n",
    "            ignore_index=255,\n",
    "            reduce_labels=False,\n",
    "        )\n",
    "        val_mean_iou = metrics[\"mean_iou\"]\n",
    "        val_mean_accuracy = metrics[\"mean_accuracy\"]\n",
    "        self.log(\"val_loss\", avg_val_loss, prog_bar=True)\n",
    "        self.log(\"val_mean_iou\", val_mean_iou, prog_bar=True)\n",
    "        self.log(\"val_mean_accuracy\", val_mean_accuracy, prog_bar=True)\n",
    "        self.validation_step_outputs.clear()\n",
    "\n",
    "    def test_step(self, batch, batch_idx):\n",
    "        images, masks = batch['pixel_values'], batch['labels']\n",
    "        outputs = self(images, masks)\n",
    "        loss, logits = outputs[0], outputs[1]\n",
    "        upsampled_logits = nn.functional.interpolate(\n",
    "            logits,\n",
    "            size=masks.shape[-2:],\n",
    "            mode=\"bilinear\",\n",
    "            align_corners=False\n",
    "        )\n",
    "        predicted = upsampled_logits.argmax(dim=1)\n",
    "        self.test_mean_iou.add_batch(\n",
    "            predictions=predicted.detach().cpu().numpy(),\n",
    "            references=masks.detach().cpu().numpy()\n",
    "        )\n",
    "        self.test_step_outputs.append({'test_loss': loss})\n",
    "\n",
    "    def on_test_epoch_end(self):\n",
    "        avg_test_loss = torch.stack([x['test_loss'] for x in self.test_step_outputs]).mean()\n",
    "        metrics = self.test_mean_iou.compute(\n",
    "            num_labels=self.num_classes,\n",
    "            ignore_index=255,\n",
    "            reduce_labels=False,\n",
    "        )\n",
    "        test_mean_iou = metrics[\"mean_iou\"]\n",
    "        test_mean_accuracy = metrics[\"mean_accuracy\"]\n",
    "        self.log(\"test_loss\", avg_test_loss, prog_bar=True)\n",
    "        self.log(\"test_mean_iou\", test_mean_iou, prog_bar=True)\n",
    "        self.log(\"test_mean_accuracy\", test_mean_accuracy, prog_bar=True)\n",
    "        self.test_step_outputs.clear()\n",
    "\n",
    "    def configure_optimizers(self):\n",
    "        return torch.optim.Adam([p for p in self.parameters() if p.requires_grad], lr=2e-04, eps=1e-08)\n",
    "\n",
    "    def train_dataloader(self):\n",
    "        return self.train_dl\n",
    "    \n",
    "    def val_dataloader(self):\n",
    "        return self.val_dl\n",
    "    \n",
    "    def test_dataloader(self):\n",
    "        return self.test_dl"
   ],
   "metadata": {
    "collapsed": false,
    "ExecuteTime": {
     "end_time": "2025-03-19T22:25:57.612246200Z",
     "start_time": "2025-03-19T22:25:53.687432Z"
    }
   },
   "id": "47cd14f4b9262c28",
   "execution_count": 3
  },
  {
   "cell_type": "code",
   "outputs": [
    {
     "name": "stderr",
     "output_type": "stream",
     "text": [
      "C:\\Users\\Dmitriy\\AppData\\Local\\Programs\\Python\\Python312\\Lib\\site-packages\\transformers\\models\\segformer\\feature_extraction_segformer.py:28: FutureWarning: The class SegformerFeatureExtractor is deprecated and will be removed in version 5 of Transformers. Please use SegformerImageProcessor instead.\n",
      "  warnings.warn(\n",
      "C:\\Users\\Dmitriy\\AppData\\Local\\Programs\\Python\\Python312\\Lib\\site-packages\\transformers\\utils\\deprecation.py:172: UserWarning: The following named arguments are not valid for `SegformerFeatureExtractor.__init__` and were ignored: 'feature_extractor_type'\n",
      "  return func(*args, **kwargs)\n"
     ]
    },
    {
     "name": "stdout",
     "output_type": "stream",
     "text": [
      "Images: 807, Masks: 807\n",
      "First 5 images: ['Laptop_monitor_101_jpg.rf.19721e33948dbd5fa570a63658f1ec0c.jpg', 'Laptop_monitor_102_jpg.rf.ec63710fdcd3301021726aa5e6e25b97.jpg', 'Laptop_monitor_103_jpg.rf.03296541421f9dcffac86f4601e6a6f7.jpg', 'Laptop_monitor_105_jpg.rf.6445e2308de04921f4d61db415b4f1c5.jpg', 'Laptop_monitor_108_jpg.rf.8dd25341e8e3b48fba8158ae5b5d9c1c.jpg']\n",
      "First 5 masks: ['Laptop_monitor_101_jpg.rf.19721e33948dbd5fa570a63658f1ec0c_mask.png', 'Laptop_monitor_102_jpg.rf.ec63710fdcd3301021726aa5e6e25b97_mask.png', 'Laptop_monitor_103_jpg.rf.03296541421f9dcffac86f4601e6a6f7_mask.png', 'Laptop_monitor_105_jpg.rf.6445e2308de04921f4d61db415b4f1c5_mask.png', 'Laptop_monitor_108_jpg.rf.8dd25341e8e3b48fba8158ae5b5d9c1c_mask.png']\n",
      "id2label: {'0': ' background', '1': ' screen'}\n",
      "Images: 84, Masks: 84\n",
      "First 5 images: ['Laptop_monitor_106_jpg.rf.93fc598ca459292f06e58b34aad905c4.jpg', 'Laptop_monitor_111_jpg.rf.4b9d57ceba0a69109f1ac017ac8f1dde.jpg', 'Laptop_monitor_134_jpg.rf.5f01be6d7d8ce9f4bccc3101d3f73dc7.jpg', 'Laptop_monitor_175_jpg.rf.7127e0e03c3eb90ae2d90ab723b0f24f.jpg', 'Laptop_monitor_205_jpg.rf.b8ac566faa60470dc7928f333c96be74.jpg']\n",
      "First 5 masks: ['Laptop_monitor_106_jpg.rf.93fc598ca459292f06e58b34aad905c4_mask.png', 'Laptop_monitor_111_jpg.rf.4b9d57ceba0a69109f1ac017ac8f1dde_mask.png', 'Laptop_monitor_134_jpg.rf.5f01be6d7d8ce9f4bccc3101d3f73dc7_mask.png', 'Laptop_monitor_175_jpg.rf.7127e0e03c3eb90ae2d90ab723b0f24f_mask.png', 'Laptop_monitor_205_jpg.rf.b8ac566faa60470dc7928f333c96be74_mask.png']\n",
      "id2label: {'0': ' background', '1': ' screen'}\n",
      "Images: 84, Masks: 84\n",
      "First 5 images: ['Laptop_monitor_106_jpg.rf.93fc598ca459292f06e58b34aad905c4.jpg', 'Laptop_monitor_111_jpg.rf.4b9d57ceba0a69109f1ac017ac8f1dde.jpg', 'Laptop_monitor_134_jpg.rf.5f01be6d7d8ce9f4bccc3101d3f73dc7.jpg', 'Laptop_monitor_175_jpg.rf.7127e0e03c3eb90ae2d90ab723b0f24f.jpg', 'Laptop_monitor_205_jpg.rf.b8ac566faa60470dc7928f333c96be74.jpg']\n",
      "First 5 masks: ['Laptop_monitor_106_jpg.rf.93fc598ca459292f06e58b34aad905c4_mask.png', 'Laptop_monitor_111_jpg.rf.4b9d57ceba0a69109f1ac017ac8f1dde_mask.png', 'Laptop_monitor_134_jpg.rf.5f01be6d7d8ce9f4bccc3101d3f73dc7_mask.png', 'Laptop_monitor_175_jpg.rf.7127e0e03c3eb90ae2d90ab723b0f24f_mask.png', 'Laptop_monitor_205_jpg.rf.b8ac566faa60470dc7928f333c96be74_mask.png']\n",
      "id2label: {'0': ' background', '1': ' screen'}\n"
     ]
    },
    {
     "name": "stderr",
     "output_type": "stream",
     "text": [
      "Some weights of SegformerForSemanticSegmentation were not initialized from the model checkpoint at nvidia/segformer-b0-finetuned-ade-512-512 and are newly initialized because the shapes did not match:\n",
      "- decode_head.classifier.bias: found shape torch.Size([150]) in the checkpoint and torch.Size([2]) in the model instantiated\n",
      "- decode_head.classifier.weight: found shape torch.Size([150, 256, 1, 1]) in the checkpoint and torch.Size([2, 256, 1, 1]) in the model instantiated\n",
      "You should probably TRAIN this model on a down-stream task to be able to use it for predictions and inference.\n",
      "C:\\Users\\Dmitriy\\AppData\\Local\\Programs\\Python\\Python312\\Lib\\site-packages\\lightning_fabric\\connector.py:572: `precision=16` is supported for historical reasons but its usage is discouraged. Please set your precision to 16-mixed instead!\n",
      "Using 16bit Automatic Mixed Precision (AMP)\n",
      "GPU available: True (cuda), used: True\n",
      "TPU available: False, using: 0 TPU cores\n",
      "HPU available: False, using: 0 HPUs\n",
      "You are using a CUDA device ('NVIDIA GeForce RTX 4060 Laptop GPU') that has Tensor Cores. To properly utilize them, you should set `torch.set_float32_matmul_precision('medium' | 'high')` which will trade-off precision for performance. For more details, read https://pytorch.org/docs/stable/generated/torch.set_float32_matmul_precision.html#torch.set_float32_matmul_precision\n",
      "LOCAL_RANK: 0 - CUDA_VISIBLE_DEVICES: [0]\n",
      "\n",
      "  | Name  | Type                             | Params | Mode\n",
      "------------------------------------------------------------------\n",
      "0 | model | SegformerForSemanticSegmentation | 3.7 M  | eval\n",
      "------------------------------------------------------------------\n",
      "3.7 M     Trainable params\n",
      "0         Non-trainable params\n",
      "3.7 M     Total params\n",
      "14.859    Total estimated model params size (MB)\n",
      "0         Modules in train mode\n",
      "213       Modules in eval mode\n"
     ]
    },
    {
     "data": {
      "text/plain": "Sanity Checking: |          | 0/? [00:00<?, ?it/s]",
      "application/vnd.jupyter.widget-view+json": {
       "version_major": 2,
       "version_minor": 0,
       "model_id": "9afda093f554414ca5793a3b7e7ac3c5"
      }
     },
     "metadata": {},
     "output_type": "display_data"
    },
    {
     "name": "stderr",
     "output_type": "stream",
     "text": [
      "C:\\Users\\Dmitriy\\AppData\\Local\\Programs\\Python\\Python312\\Lib\\site-packages\\pytorch_lightning\\trainer\\connectors\\data_connector.py:425: The 'val_dataloader' does not have many workers which may be a bottleneck. Consider increasing the value of the `num_workers` argument` to `num_workers=19` in the `DataLoader` to improve performance.\n",
      "C:\\Users\\Dmitriy\\AppData\\Local\\Programs\\Python\\Python312\\Lib\\site-packages\\datasets\\features\\image.py:347: UserWarning: Downcasting array dtype int64 to int32 to be compatible with 'Pillow'\n",
      "  warnings.warn(f\"Downcasting array dtype {dtype} to {dest_dtype} to be compatible with 'Pillow'\")\n",
      "C:\\Users\\Dmitriy\\AppData\\Local\\Programs\\Python\\Python312\\Lib\\site-packages\\pytorch_lightning\\trainer\\connectors\\data_connector.py:425: The 'train_dataloader' does not have many workers which may be a bottleneck. Consider increasing the value of the `num_workers` argument` to `num_workers=19` in the `DataLoader` to improve performance.\n"
     ]
    },
    {
     "data": {
      "text/plain": "Training: |          | 0/? [00:00<?, ?it/s]",
      "application/vnd.jupyter.widget-view+json": {
       "version_major": 2,
       "version_minor": 0,
       "model_id": "eab504b9d7ac4ca5a95a1a109e731d88"
      }
     },
     "metadata": {},
     "output_type": "display_data"
    },
    {
     "data": {
      "text/plain": "Validation: |          | 0/? [00:00<?, ?it/s]",
      "application/vnd.jupyter.widget-view+json": {
       "version_major": 2,
       "version_minor": 0,
       "model_id": "08d36a02c92948d8898c627de4797656"
      }
     },
     "metadata": {},
     "output_type": "display_data"
    },
    {
     "data": {
      "text/plain": "Validation: |          | 0/? [00:00<?, ?it/s]",
      "application/vnd.jupyter.widget-view+json": {
       "version_major": 2,
       "version_minor": 0,
       "model_id": "dffaee636792496e9882d3aeb2ab95df"
      }
     },
     "metadata": {},
     "output_type": "display_data"
    },
    {
     "data": {
      "text/plain": "Validation: |          | 0/? [00:00<?, ?it/s]",
      "application/vnd.jupyter.widget-view+json": {
       "version_major": 2,
       "version_minor": 0,
       "model_id": "14c9f0ea21394cb8911731d11a049995"
      }
     },
     "metadata": {},
     "output_type": "display_data"
    },
    {
     "data": {
      "text/plain": "Validation: |          | 0/? [00:00<?, ?it/s]",
      "application/vnd.jupyter.widget-view+json": {
       "version_major": 2,
       "version_minor": 0,
       "model_id": "f21e0f8df7714f31be03cb9527401613"
      }
     },
     "metadata": {},
     "output_type": "display_data"
    },
    {
     "data": {
      "text/plain": "Validation: |          | 0/? [00:00<?, ?it/s]",
      "application/vnd.jupyter.widget-view+json": {
       "version_major": 2,
       "version_minor": 0,
       "model_id": "05a2f25f61c14a38b980ee173fcce426"
      }
     },
     "metadata": {},
     "output_type": "display_data"
    },
    {
     "data": {
      "text/plain": "Validation: |          | 0/? [00:00<?, ?it/s]",
      "application/vnd.jupyter.widget-view+json": {
       "version_major": 2,
       "version_minor": 0,
       "model_id": "5c7c703f447f4eb49cbb026e5fe63f6b"
      }
     },
     "metadata": {},
     "output_type": "display_data"
    },
    {
     "data": {
      "text/plain": "Validation: |          | 0/? [00:00<?, ?it/s]",
      "application/vnd.jupyter.widget-view+json": {
       "version_major": 2,
       "version_minor": 0,
       "model_id": "385918ae305e4a1bb218408549a4d99f"
      }
     },
     "metadata": {},
     "output_type": "display_data"
    },
    {
     "data": {
      "text/plain": "Validation: |          | 0/? [00:00<?, ?it/s]",
      "application/vnd.jupyter.widget-view+json": {
       "version_major": 2,
       "version_minor": 0,
       "model_id": "ea62cd973dc9445da8ad2d0872e67d96"
      }
     },
     "metadata": {},
     "output_type": "display_data"
    },
    {
     "data": {
      "text/plain": "Validation: |          | 0/? [00:00<?, ?it/s]",
      "application/vnd.jupyter.widget-view+json": {
       "version_major": 2,
       "version_minor": 0,
       "model_id": "8faa6f9647984d7bb9f88b1c42a0bee5"
      }
     },
     "metadata": {},
     "output_type": "display_data"
    },
    {
     "data": {
      "text/plain": "Validation: |          | 0/? [00:00<?, ?it/s]",
      "application/vnd.jupyter.widget-view+json": {
       "version_major": 2,
       "version_minor": 0,
       "model_id": "1739d9fbda0b47e5be50a9628715f1d5"
      }
     },
     "metadata": {},
     "output_type": "display_data"
    },
    {
     "data": {
      "text/plain": "Validation: |          | 0/? [00:00<?, ?it/s]",
      "application/vnd.jupyter.widget-view+json": {
       "version_major": 2,
       "version_minor": 0,
       "model_id": "fa8c725fa91b4e848e5bc3ab60dfabc8"
      }
     },
     "metadata": {},
     "output_type": "display_data"
    },
    {
     "data": {
      "text/plain": "Validation: |          | 0/? [00:00<?, ?it/s]",
      "application/vnd.jupyter.widget-view+json": {
       "version_major": 2,
       "version_minor": 0,
       "model_id": "e45ef5fd60034d7983364fb33af1cd69"
      }
     },
     "metadata": {},
     "output_type": "display_data"
    },
    {
     "data": {
      "text/plain": "Validation: |          | 0/? [00:00<?, ?it/s]",
      "application/vnd.jupyter.widget-view+json": {
       "version_major": 2,
       "version_minor": 0,
       "model_id": "59eeaa65f4994f918b9929532dc4b053"
      }
     },
     "metadata": {},
     "output_type": "display_data"
    },
    {
     "data": {
      "text/plain": "Validation: |          | 0/? [00:00<?, ?it/s]",
      "application/vnd.jupyter.widget-view+json": {
       "version_major": 2,
       "version_minor": 0,
       "model_id": "618960de19fe43889e8238a2509b518f"
      }
     },
     "metadata": {},
     "output_type": "display_data"
    },
    {
     "data": {
      "text/plain": "Validation: |          | 0/? [00:00<?, ?it/s]",
      "application/vnd.jupyter.widget-view+json": {
       "version_major": 2,
       "version_minor": 0,
       "model_id": "b19df3c5841145548b4e796b007d38dd"
      }
     },
     "metadata": {},
     "output_type": "display_data"
    },
    {
     "name": "stderr",
     "output_type": "stream",
     "text": [
      "`Trainer.fit` stopped: `max_epochs=15` reached.\n",
      "LOCAL_RANK: 0 - CUDA_VISIBLE_DEVICES: [0]\n",
      "C:\\Users\\Dmitriy\\AppData\\Local\\Programs\\Python\\Python312\\Lib\\site-packages\\pytorch_lightning\\trainer\\connectors\\data_connector.py:425: The 'test_dataloader' does not have many workers which may be a bottleneck. Consider increasing the value of the `num_workers` argument` to `num_workers=19` in the `DataLoader` to improve performance.\n"
     ]
    },
    {
     "data": {
      "text/plain": "Testing: |          | 0/? [00:00<?, ?it/s]",
      "application/vnd.jupyter.widget-view+json": {
       "version_major": 2,
       "version_minor": 0,
       "model_id": "0fa678f034744fcc950acfefd53125b4"
      }
     },
     "metadata": {},
     "output_type": "display_data"
    },
    {
     "name": "stdout",
     "output_type": "stream",
     "text": [
      "────────────────────────────────────────────────────────────────────────────────────────────────────────────────────────\r\n",
      "       Test metric             DataLoader 0\r\n",
      "────────────────────────────────────────────────────────────────────────────────────────────────────────────────────────\r\n",
      "        test_loss           0.12485188245773315\r\n",
      "   test_mean_accuracy       0.9633823037147522\r\n",
      "      test_mean_iou         0.9303151369094849\r\n",
      "────────────────────────────────────────────────────────────────────────────────────────────────────────────────────────\n"
     ]
    }
   ],
   "source": [
    "from pytorch_lightning.callbacks.early_stopping import EarlyStopping\n",
    "from pytorch_lightning.callbacks.model_checkpoint import ModelCheckpoint\n",
    "from transformers import SegformerFeatureExtractor\n",
    "from torch.utils.data import DataLoader\n",
    "\n",
    "\n",
    "if __name__ == \"__main__\":\n",
    "    # rf = Roboflow(api_key=\"q3YSMGxcnMRqHCb9ppWg\")\n",
    "    # project = rf.workspace(\"uit-kbay3\").project(\"screen-segmentation\")\n",
    "    # version = project.version(3)\n",
    "    # dataset = version.download(\"png-mask-semantic\")        \n",
    "    \n",
    "    feature_extractor = SegformerFeatureExtractor.from_pretrained(\"nvidia/segformer-b0-finetuned-ade-512-512\")\n",
    "    feature_extractor.reduce_labels = False\n",
    "    feature_extractor.size = 128\n",
    "    \n",
    "    train_dataset = SemanticSegmentationDataset(\"./Screen-segmentation-3/train/\", feature_extractor)\n",
    "    val_dataset = SemanticSegmentationDataset(\"./Screen-segmentation-3/test/\", feature_extractor)\n",
    "    test_dataset = SemanticSegmentationDataset(\"./Screen-segmentation-3/test/\", feature_extractor)\n",
    "    \n",
    "    batch_size = 16\n",
    "    train_dataloader = DataLoader(train_dataset, batch_size=batch_size, shuffle=True, num_workers=0, prefetch_factor=None)\n",
    "    val_dataloader = DataLoader(val_dataset, batch_size=batch_size, num_workers=0, prefetch_factor=None)\n",
    "    test_dataloader = DataLoader(test_dataset, batch_size=batch_size, num_workers=0, prefetch_factor=None)\n",
    "    \n",
    "    segformer_finetuner = SegformerFinetuner(\n",
    "        train_dataset.id2label,\n",
    "        train_dataloader=DataLoader(train_dataset, batch_size=16, shuffle=True, num_workers=0),\n",
    "        val_dataloader=DataLoader(val_dataset, batch_size=16, num_workers=0),\n",
    "        test_dataloader=DataLoader(test_dataset, batch_size=16, num_workers=0),\n",
    "        metrics_interval=10,\n",
    "    )\n",
    "    trainer = pl.Trainer(\n",
    "        accelerator=\"gpu\",\n",
    "        devices=1,\n",
    "        precision=16,\n",
    "        max_epochs=15,\n",
    "        callbacks=[EarlyStopping(monitor=\"val_loss\", patience=10), ModelCheckpoint(save_top_k=1, monitor=\"val_loss\")]\n",
    "    )\n",
    "    trainer.fit(segformer_finetuner)\n",
    "    trainer.test(segformer_finetuner)"
   ],
   "metadata": {
    "collapsed": false,
    "ExecuteTime": {
     "end_time": "2025-03-19T22:31:09.722771400Z",
     "start_time": "2025-03-19T22:25:57.605962600Z"
    }
   },
   "id": "e2896d647a910da6",
   "execution_count": 4
  },
  {
   "cell_type": "code",
   "outputs": [
    {
     "data": {
      "text/plain": "<IPython.core.display.HTML object>",
      "text/html": "\n      <iframe id=\"tensorboard-frame-926b516073b5e349\" width=\"100%\" height=\"800\" frameborder=\"0\">\n      </iframe>\n      <script>\n        (function() {\n          const frame = document.getElementById(\"tensorboard-frame-926b516073b5e349\");\n          const url = new URL(\"/\", window.location);\n          const port = 6006;\n          if (port) {\n            url.port = port;\n          }\n          frame.src = url;\n        })();\n      </script>\n    "
     },
     "metadata": {},
     "output_type": "display_data"
    }
   ],
   "source": [
    "%load_ext tensorboard\n",
    "%tensorboard --logdir lightning_logs/"
   ],
   "metadata": {
    "collapsed": false,
    "ExecuteTime": {
     "end_time": "2025-03-19T22:31:12.755385600Z",
     "start_time": "2025-03-19T22:31:09.716799400Z"
    }
   },
   "id": "fe78be775a15812d",
   "execution_count": 5
  },
  {
   "cell_type": "code",
   "outputs": [
    {
     "name": "stdout",
     "output_type": "stream",
     "text": [
      "Predicted unique values: [0 1]\n",
      "Mask unique values: [0 1]\n"
     ]
    },
    {
     "data": {
      "text/plain": "<Figure size 1000x2000 with 8 Axes>",
      "image/png": "[encoded data removed]"
     },
     "metadata": {},
     "output_type": "display_data"
    }
   ],
   "source": [
    "from matplotlib import pyplot as plt\n",
    "\n",
    "# Функция визуализации из урока\n",
    "color_map = {\n",
    "    0: (0, 0, 0),    # background - черный\n",
    "    1: (127, 127, 127),  # screen - серый\n",
    "    # 255: (255, 255, 255)\n",
    "}\n",
    "\n",
    "def prediction_to_vis(prediction):\n",
    "    vis_shape = prediction.shape + (3,)\n",
    "    vis = np.zeros(vis_shape)\n",
    "    for i, c in color_map.items():\n",
    "        vis[prediction == i] = color_map[i]\n",
    "    return Image.fromarray(vis.astype(np.uint8))\n",
    "\n",
    "# Визуализация предсказаний\n",
    "segformer_finetuner.eval()\n",
    "segformer_finetuner.to(\"cuda\")\n",
    "with torch.no_grad():\n",
    "    for batch in test_dataloader:\n",
    "        images, masks = batch['pixel_values'], batch['labels']\n",
    "        images = images.to(\"cuda\")\n",
    "        masks = masks.to(\"cuda\")\n",
    "        outputs = segformer_finetuner.model(images, masks)\n",
    "        loss, logits = outputs[0], outputs[1]\n",
    "        upsampled_logits = nn.functional.interpolate(\n",
    "            logits,\n",
    "            size=masks.shape[-2:],\n",
    "            mode=\"bilinear\",\n",
    "            align_corners=False\n",
    "        )\n",
    "        predicted = upsampled_logits.argmax(dim=1).cpu().numpy()\n",
    "        masks = masks.cpu().numpy()\n",
    "\n",
    "        print(\"Predicted unique values:\", np.unique(predicted))\n",
    "        print(\"Mask unique values:\", np.unique(masks))\n",
    "\n",
    "        f, axarr = plt.subplots(4, 2, figsize=(10, 20))\n",
    "        for i in range(4):\n",
    "            pred_vis = prediction_to_vis(predicted[i, :, :])\n",
    "            mask_vis = prediction_to_vis(masks[i, :, :])\n",
    "            axarr[i, 0].imshow(pred_vis)\n",
    "            axarr[i, 0].set_title(\"Predicted\")\n",
    "            axarr[i, 1].imshow(mask_vis)\n",
    "            axarr[i, 1].set_title(\"Ground Truth\")\n",
    "            axarr[i, 0].axis(\"off\")\n",
    "            axarr[i, 1].axis(\"off\")\n",
    "        plt.tight_layout()\n",
    "        plt.show()\n",
    "        break"
   ],
   "metadata": {
    "collapsed": false,
    "ExecuteTime": {
     "end_time": "2025-03-19T22:32:30.907499600Z",
     "start_time": "2025-03-19T22:32:30.161225800Z"
    }
   },
   "id": "858a5f0bb257aed6",
   "execution_count": 6
  }
 ],
 "metadata": {
  "kernelspec": {
   "display_name": "Python 3",
   "language": "python",
   "name": "python3"
  },
  "language_info": {
   "codemirror_mode": {
    "name": "ipython",
    "version": 2
   },
   "file_extension": ".py",
   "mimetype": "text/x-python",
   "name": "python",
   "nbconvert_exporter": "python",
   "pygments_lexer": "ipython2",
   "version": "2.7.6"
  }
 },
 "nbformat": 4,
 "nbformat_minor": 5
}
